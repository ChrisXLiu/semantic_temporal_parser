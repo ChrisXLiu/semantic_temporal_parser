{
 "cells": [
  {
   "cell_type": "code",
   "execution_count": 35,
   "metadata": {},
   "outputs": [
    {
     "name": "stdout",
     "output_type": "stream",
     "text": [
      "The dotenv extension is already loaded. To reload it, use:\n",
      "  %reload_ext dotenv\n"
     ]
    }
   ],
   "source": [
    "import openai\n",
    "import os\n",
    "%load_ext dotenv\n",
    "%dotenv\n",
    "openai.api_key = os.getenv(\"OPENAI_API_KEY\")"
   ]
  },
  {
   "cell_type": "code",
   "execution_count": 36,
   "metadata": {},
   "outputs": [
    {
     "name": "stdout",
     "output_type": "stream",
     "text": [
      "the upcming Sonday 13pm\n"
     ]
    }
   ],
   "source": [
    "text_to_parse = input(\"Enter utterance for parsing\")\n",
    "print(text_to_parse)"
   ]
  },
  {
   "cell_type": "code",
   "execution_count": 37,
   "metadata": {},
   "outputs": [
    {
     "name": "stdout",
     "output_type": "stream",
     "text": [
      "\n",
      "Try correcting the spelling of these phrases about date and time:\n",
      "Input: 'Teuesdey oif Nexx weak att 9 pm'\n",
      "Output: 'Tuesday of Next week at 9 pm'\n",
      "\n",
      "Input: 'Frday at nooon'\n",
      "Output: 'Friday at noon'\n",
      "\n",
      "Input: 'Monday 3 pm'\n",
      "Output: 'Monday 3 pm'\n",
      "\n",
      "Input: 'the upcming Sonday 13pm'\n",
      "Output: ?\n",
      "\n"
     ]
    }
   ],
   "source": [
    "spell_correction_prompt = \"\"\"\n",
    "Try correcting the spelling of these phrases about date and time:\n",
    "Input: 'Teuesdey oif Nexx weak att 9 pm'\n",
    "Output: 'Tuesday of Next week at 9 pm'\n",
    "\n",
    "Input: 'Frday at nooon'\n",
    "Output: 'Friday at noon'\n",
    "\n",
    "Input: 'Monday 3 pm'\n",
    "Output: 'Monday 3 pm'\n",
    "\n",
    "Input: '{}'\n",
    "Output: ?\n",
    "\"\"\".format(text_to_parse)\n",
    "\n",
    "print(spell_correction_prompt)"
   ]
  },
  {
   "cell_type": "code",
   "execution_count": 38,
   "metadata": {},
   "outputs": [],
   "source": [
    "spell_correction_response = openai.ChatCompletion.create(\n",
    "    model=\"gpt-3.5-turbo-0301\",\n",
    "    messages=[{\"role\": \"system\", \"content\": spell_correction_prompt}],\n",
    "    max_tokens=50)\n"
   ]
  },
  {
   "cell_type": "code",
   "execution_count": 39,
   "metadata": {},
   "outputs": [
    {
     "name": "stdout",
     "output_type": "stream",
     "text": [
      "Output: 'The upcoming Sunday at 1 pm'\n"
     ]
    }
   ],
   "source": [
    "raw_spell_corrected_message = spell_correction_response.choices[0].message.content.strip()\n",
    "print(raw_spell_corrected_message)"
   ]
  },
  {
   "cell_type": "code",
   "execution_count": 40,
   "metadata": {},
   "outputs": [
    {
     "name": "stdout",
     "output_type": "stream",
     "text": [
      "Entering semantic parsing for The upcoming Sunday at 1 pm...\n"
     ]
    }
   ],
   "source": [
    "import re\n",
    "spell_correction_matched = re.search(\"(?:Output:\\s*)?'([^']+?)'\", raw_spell_corrected_message)\n",
    "if spell_correction_matched is not None and len(spell_correction_matched.groups()) == 1:\n",
    "    spell_corrected_text_to_parse = spell_correction_matched.group(1)\n",
    "else:\n",
    "    spell_corrected_text_to_parse = text_to_parse\n",
    "    print(\"Unrecognized return format\")\n",
    "print(\"Entering semantic parsing for {}...\".format(spell_corrected_text_to_parse))"
   ]
  },
  {
   "cell_type": "code",
   "execution_count": 41,
   "metadata": {},
   "outputs": [
    {
     "name": "stdout",
     "output_type": "stream",
     "text": [
      "\n",
      "Follow my examples and give me an answer.\n",
      "\n",
      "Assuming reference date = '2023-02-24'\n",
      "'Tomorrow at 11am' -> '2023-02-25 11:00'\n",
      "'This coming Tuesday at 9pm' -> '2023-02-28 21:00'\n",
      "'Next Tuesday at 9pm' -> '2023-02-28 21:00'\n",
      "'Teuesdey oif Nexx weak att 9 pm' -> '2023-02-28 21:00'\n",
      "\n",
      "Reference date = '2023-03-07'\n",
      "'The upcoming Sunday at 1 pm' -> ?\n",
      "\n"
     ]
    }
   ],
   "source": [
    "from datetime import date\n",
    "\n",
    "semantic_parsing_prompt = \"\"\"\n",
    "Follow my examples and give me an answer.\n",
    "\n",
    "Assuming reference date = '2023-02-24'\n",
    "'Tomorrow at 11am' -> '2023-02-25 11:00'\n",
    "'This coming Tuesday at 9pm' -> '2023-02-28 21:00'\n",
    "'Next Tuesday at 9pm' -> '2023-02-28 21:00'\n",
    "'Teuesdey oif Nexx weak att 9 pm' -> '2023-02-28 21:00'\n",
    "\n",
    "Reference date = '{}'\n",
    "'{}' -> ?\n",
    "\"\"\".format(date.today(), spell_corrected_text_to_parse)\n",
    "\n",
    "print(semantic_parsing_prompt)"
   ]
  },
  {
   "cell_type": "code",
   "execution_count": 42,
   "metadata": {},
   "outputs": [],
   "source": [
    "semantic_parsing_response = openai.ChatCompletion.create(\n",
    "    model=\"gpt-3.5-turbo-0301\",\n",
    "    messages=[{\"role\": \"system\", \"content\": semantic_parsing_prompt}],\n",
    "    max_tokens=50)\n"
   ]
  },
  {
   "cell_type": "code",
   "execution_count": 43,
   "metadata": {},
   "outputs": [
    {
     "name": "stdout",
     "output_type": "stream",
     "text": [
      "'2023-03-12 13:00'\n"
     ]
    }
   ],
   "source": [
    "raw_semantic_parsing_message = semantic_parsing_response.choices[0].message.content.strip()\n",
    "print(raw_semantic_parsing_message)"
   ]
  },
  {
   "cell_type": "code",
   "execution_count": 44,
   "metadata": {},
   "outputs": [
    {
     "name": "stdout",
     "output_type": "stream",
     "text": [
      "2023-03-12 13:00\n"
     ]
    }
   ],
   "source": [
    "import re\n",
    "semantic_parsing_matched = re.search(\"'(\\d\\d\\d\\d-\\d\\d-\\d\\d \\d\\d:\\d\\d)'\", raw_semantic_parsing_message)\n",
    "if semantic_parsing_matched is not None and len(semantic_parsing_matched.groups()) == 1:\n",
    "    print(semantic_parsing_matched.group(1))\n",
    "else:\n",
    "    print(\"Unrecognized return format\")"
   ]
  }
 ],
 "metadata": {
  "kernelspec": {
   "display_name": "Python 3",
   "language": "python",
   "name": "python3"
  },
  "language_info": {
   "codemirror_mode": {
    "name": "ipython",
    "version": 3
   },
   "file_extension": ".py",
   "mimetype": "text/x-python",
   "name": "python",
   "nbconvert_exporter": "python",
   "pygments_lexer": "ipython3",
   "version": "3.10.10"
  },
  "orig_nbformat": 4,
  "vscode": {
   "interpreter": {
    "hash": "7e1998ff7f8aa20ada591c520b972326324e5ea05489af9e422744c7c09f6dad"
   }
  }
 },
 "nbformat": 4,
 "nbformat_minor": 2
}
